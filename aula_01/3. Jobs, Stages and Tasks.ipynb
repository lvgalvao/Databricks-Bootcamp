{
 "cells": [
  {
   "cell_type": "markdown",
   "metadata": {
    "application/vnd.databricks.v1+cell": {
     "cellMetadata": {},
     "inputWidgets": {},
     "nuid": "8afe6265-33aa-40f0-9167-587a3d9865b2",
     "showTitle": false,
     "tableResultSettingsMap": {},
     "title": ""
    }
   },
   "source": [
    "#DAG"
   ]
  },
  {
   "cell_type": "code",
   "execution_count": 0,
   "metadata": {
    "application/vnd.databricks.v1+cell": {
     "cellMetadata": {
      "byteLimit": 2048000,
      "rowLimit": 10000
     },
     "inputWidgets": {},
     "nuid": "6641bab6-8516-4bd0-beda-fb820c7f45a6",
     "showTitle": false,
     "tableResultSettingsMap": {},
     "title": ""
    }
   },
   "outputs": [],
   "source": [
    "import pyspark.sql.functions as F\n",
    "\n",
    "(spark\n",
    "    .read\n",
    "    .option(\"header\", True)\n",
    "    .csv(\"dbfs:/databricks-datasets/nyctaxi/tripdata/yellow/yellow_tripdata_2011-04.csv.gz\")\n",
    "    .filter(\"passenger_count = 1\")\n",
    "    .select(\"Trip_Distance\", \"Payment_Type\")\n",
    "    .groupBy(\"Payment_Type\").agg(F.avg(\"Trip_Distance\").alias(\"avg_trip_distance\"))\n",
    "    #.show()\n",
    "    #.count()\n",
    "    .explain()\n",
    ")"
   ]
  },
  {
   "cell_type": "markdown",
   "metadata": {
    "application/vnd.databricks.v1+cell": {
     "cellMetadata": {},
     "inputWidgets": {},
     "nuid": "674c279f-7d77-422f-97b7-3d0218dc9d4e",
     "showTitle": false,
     "tableResultSettingsMap": {},
     "title": ""
    }
   },
   "source": [
    "#Laziness"
   ]
  },
  {
   "cell_type": "code",
   "execution_count": 0,
   "metadata": {
    "application/vnd.databricks.v1+cell": {
     "cellMetadata": {
      "byteLimit": 2048000,
      "rowLimit": 10000
     },
     "inputWidgets": {},
     "nuid": "4bf235a2-ce03-4dba-b407-a8cff3b737cf",
     "showTitle": false,
     "tableResultSettingsMap": {},
     "title": ""
    }
   },
   "outputs": [],
   "source": [
    "import pyspark.sql.functions as F\n",
    "\n",
    "(spark\n",
    "    .read\n",
    "    .option(\"header\", True)\n",
    "    .csv(\"dbfs:/databricks-datasets/nyctaxi/tripdata/yellow/yellow_tripdata_2011-04.csv.gz\")\n",
    "    .filter(\"passenger_count = 1\")\n",
    "    .select(\"Trip_Distance\", \"Payment_Type\")\n",
    "    .groupBy(\"Payment_Type\").agg(F.avg(\"Trip_Distance\").alias(\"avg_trip_distance\"))\n",
    "    .filter(\"Payment_Type = 'Cash'\")\n",
    "    .explain()\n",
    ")"
   ]
  },
  {
   "cell_type": "code",
   "execution_count": 0,
   "metadata": {
    "application/vnd.databricks.v1+cell": {
     "cellMetadata": {
      "byteLimit": 2048000,
      "rowLimit": 10000
     },
     "inputWidgets": {},
     "nuid": "34ea8eb1-bc71-4c53-b2fb-8aace585636a",
     "showTitle": false,
     "tableResultSettingsMap": {},
     "title": ""
    }
   },
   "outputs": [],
   "source": [
    "import pyspark.sql.functions as F\n",
    "\n",
    "(spark\n",
    "    .read\n",
    "    .option(\"header\", True)\n",
    "    .csv(\"dbfs:/databricks-datasets/nyctaxi/tripdata/yellow/yellow_tripdata_2011-04.csv.gz\")\n",
    "    .filter(\"passenger_count = 1\")\n",
    "    .select(\"Trip_Distance\", \"Payment_Type\")\n",
    "    .groupBy(\"Payment_Type\").agg(F.avg(\"Trip_Distance\").alias(\"avg_trip_distance\"))\n",
    "    .filter(\"Payment_Type = 'Cash'\")\n",
    "    .explain(True)\n",
    ")"
   ]
  }
 ],
 "metadata": {
  "application/vnd.databricks.v1+notebook": {
   "computePreferences": null,
   "dashboards": [],
   "environmentMetadata": {
    "base_environment": "",
    "environment_version": "2"
   },
   "language": "python",
   "notebookMetadata": {
    "mostRecentlyExecutedCommandWithImplicitDF": {
     "commandId": 2257831271513481,
     "dataframes": [
      "_sqldf"
     ]
    },
    "pythonIndentUnit": 4
   },
   "notebookName": "3. Jobs, Stages and Tasks",
   "widgets": {}
  },
  "language_info": {
   "name": "python"
  }
 },
 "nbformat": 4,
 "nbformat_minor": 0
}
