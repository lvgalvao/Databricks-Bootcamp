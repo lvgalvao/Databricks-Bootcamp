{
 "cells": [
  {
   "cell_type": "markdown",
   "metadata": {
    "application/vnd.databricks.v1+cell": {
     "cellMetadata": {},
     "inputWidgets": {},
     "nuid": "faad2d68-d2d6-41b2-b362-6c25bda0d8f2",
     "showTitle": false,
     "tableResultSettingsMap": {},
     "title": ""
    }
   },
   "source": [
    "# Setup"
   ]
  },
  {
   "cell_type": "code",
   "execution_count": 0,
   "metadata": {
    "application/vnd.databricks.v1+cell": {
     "cellMetadata": {
      "byteLimit": 2048000,
      "rowLimit": 10000
     },
     "inputWidgets": {},
     "nuid": "bc1612b4-e6c7-4528-a263-90c9b4433462",
     "showTitle": false,
     "tableResultSettingsMap": {},
     "title": ""
    }
   },
   "outputs": [],
   "source": [
    "spark.conf.set(\"spark.databricks.io.cache.enabled\", False)"
   ]
  },
  {
   "cell_type": "markdown",
   "metadata": {
    "application/vnd.databricks.v1+cell": {
     "cellMetadata": {},
     "inputWidgets": {},
     "nuid": "8afe6265-33aa-40f0-9167-587a3d9865b2",
     "showTitle": false,
     "tableResultSettingsMap": {},
     "title": ""
    }
   },
   "source": [
    "#Transformação vs Ações"
   ]
  },
  {
   "cell_type": "code",
   "execution_count": 0,
   "metadata": {
    "application/vnd.databricks.v1+cell": {
     "cellMetadata": {
      "byteLimit": 2048000,
      "rowLimit": 10000
     },
     "inputWidgets": {},
     "nuid": "6641bab6-8516-4bd0-beda-fb820c7f45a6",
     "showTitle": false,
     "tableResultSettingsMap": {},
     "title": ""
    }
   },
   "outputs": [],
   "source": [
    "import pyspark.sql.functions as F\n",
    "\n",
    "(spark\n",
    "    .read\n",
    "    .option(\"header\", True)\n",
    "    .csv(\"dbfs:/databricks-datasets/nyctaxi/tripdata/yellow/yellow_tripdata_2011-04.csv.gz\")\n",
    "    .filter(\"passenger_count = 1\")\n",
    "    .select(\"Trip_Distance\", \"Payment_Type\")\n",
    "    .groupBy(\"Payment_Type\").agg(F.avg(\"Trip_Distance\").alias(\"avg_trip_distance\"))\n",
    "    .show()\n",
    "    .count()\n",
    "    #.write.format(\"noop\").mode(\"overwrite\").save()\n",
    ")"
   ]
  },
  {
   "cell_type": "markdown",
   "metadata": {
    "application/vnd.databricks.v1+cell": {
     "cellMetadata": {},
     "inputWidgets": {},
     "nuid": "326a1f81-41f3-4f68-afaa-3591405afd54",
     "showTitle": false,
     "tableResultSettingsMap": {},
     "title": ""
    }
   },
   "source": [
    "# Exemplo 2"
   ]
  },
  {
   "cell_type": "code",
   "execution_count": 0,
   "metadata": {
    "application/vnd.databricks.v1+cell": {
     "cellMetadata": {
      "byteLimit": 2048000,
      "rowLimit": 10000
     },
     "inputWidgets": {},
     "nuid": "d3506f23-ac63-45f8-89aa-c6cbd8af3ea0",
     "showTitle": false,
     "tableResultSettingsMap": {},
     "title": ""
    }
   },
   "outputs": [],
   "source": [
    "# Criar o DataFrame diretamente no Databricks\n",
    "data = [\n",
    "    {\"nome\": \"Alice\", \"idade\": 25, \"cidade\": \"São Paulo\"},\n",
    "    {\"nome\": \"Bob\", \"idade\": 17, \"cidade\": \"Rio de Janeiro\"},\n",
    "    {\"nome\": \"Carlos\", \"idade\": 19, \"cidade\": \"São Paulo\"},\n",
    "    {\"nome\": \"Diana\", \"idade\": 16, \"cidade\": \"Belo Horizonte\"},\n",
    "    {\"nome\": \"Eve\", \"idade\": 22, \"cidade\": \"Rio de Janeiro\"},\n",
    "]\n",
    "\n",
    "# Criar DataFrame Spark\n",
    "df = spark.createDataFrame(data)\n",
    "\n",
    "# Aplicar as operações\n",
    "resultado = (\n",
    "    df.filter(df['idade'] > 18)  # Filtrar idade maior que 18\n",
    "    .groupBy(\"cidade\")          # Agrupar por cidade\n",
    "    .count()                    # Contar as ocorrências por cidade\n",
    ")\n",
    "\n",
    "# Mostrar o resultado\n",
    "resultado.show()\n"
   ]
  }
 ],
 "metadata": {
  "application/vnd.databricks.v1+notebook": {
   "computePreferences": null,
   "dashboards": [],
   "environmentMetadata": {
    "base_environment": "",
    "environment_version": "2"
   },
   "language": "python",
   "notebookMetadata": {
    "mostRecentlyExecutedCommandWithImplicitDF": {
     "commandId": 2257831271513481,
     "dataframes": [
      "_sqldf"
     ]
    },
    "pythonIndentUnit": 4
   },
   "notebookName": "4. Transformações e Ações",
   "widgets": {}
  },
  "language_info": {
   "name": "python"
  }
 },
 "nbformat": 4,
 "nbformat_minor": 0
}
