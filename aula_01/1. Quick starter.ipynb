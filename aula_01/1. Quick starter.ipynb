{
 "cells": [
  {
   "cell_type": "code",
   "execution_count": 0,
   "metadata": {
    "application/vnd.databricks.v1+cell": {
     "cellMetadata": {
      "byteLimit": 2048000,
      "rowLimit": 10000
     },
     "inputWidgets": {},
     "nuid": "f7cda593-9919-4ce4-874d-97787fa7fd21",
     "showTitle": false,
     "tableResultSettingsMap": {},
     "title": ""
    }
   },
   "outputs": [],
   "source": [
    "spark.conf.set(\"spark.databricks.io.cache.enabled\", False)"
   ]
  },
  {
   "cell_type": "markdown",
   "metadata": {
    "application/vnd.databricks.v1+cell": {
     "cellMetadata": {},
     "inputWidgets": {},
     "nuid": "ae8a45df-21f0-4486-b09c-a34b6085ad4f",
     "showTitle": false,
     "tableResultSettingsMap": {},
     "title": ""
    }
   },
   "source": [
    "\n",
    "Esse comando desabilita o **cache de leitura de dados** gerenciado automaticamente pela plataforma Databricks.\n",
    "\n",
    "### O que é o cache no Databricks?\n",
    "O Databricks oferece uma funcionalidade chamada **Disk IO Cache**, que é usada para melhorar o desempenho da leitura de dados. Ele funciona armazenando em disco (e, em alguns casos, na memória) os dados mais frequentemente acessados de arquivos, como Parquet ou Delta. Isso reduz o tempo necessário para ler os dados do armazenamento original (como o Amazon S3 ou o Azure Data Lake).\n",
    "\n",
    "Quando o cache está **habilitado** (`True`):\n",
    "- Os dados acessados por operações de leitura são armazenados no cache.\n",
    "- Leituras subsequentes desses dados são mais rápidas porque evitam acessar o armazenamento remoto.\n",
    "\n",
    "Quando o cache está **desabilitado** (`False`):\n",
    "- Todas as leituras de dados são feitas diretamente no armazenamento original, sem usar o cache.\n",
    "\n",
    "---\n",
    "\n",
    "### Por que desabilitar o cache?\n",
    "1. **Economizar recursos**: O cache pode consumir espaço em disco e memória no cluster. Se não houver necessidade de melhorar o desempenho das leituras ou se os dados já são pequenos e rápidos de ler, o cache pode ser desabilitado.\n",
    "2. **Cenários de dados dinâmicos**: Se os dados mudam frequentemente, o cache pode ficar desatualizado, causando leituras inconsistentes ou desperdício de recursos.\n",
    "3. **Evitar comportamento inesperado**: Em alguns casos, como em ambientes de teste, você pode querer desabilitar o cache para garantir que os dados sejam sempre lidos diretamente do armazenamento original.\n",
    "\n",
    "---\n",
    "\n",
    "### O que acontece com esse comando?\n",
    "```python\n",
    "spark.config.set(\"spark.databricks.io.cache.enabled\", False)\n",
    "```\n",
    "\n",
    "1. Instrução **`spark.config.set`**: Define uma configuração para a sessão Spark atual.\n",
    "2. **`\"spark.databricks.io.cache.enabled\"`**: É a chave que controla se o cache do Databricks está habilitado (`True`) ou desabilitado (`False`).\n",
    "3. **`False`**: Desabilita o cache.\n",
    "\n",
    "---\n",
    "\n",
    "### Impacto\n",
    "- **Desempenho**: Leituras podem ser mais lentas porque os dados não serão armazenados localmente para acesso rápido.\n",
    "- **Consistência**: Garante que as leituras sempre reflitam os dados mais recentes no armazenamento original.\n",
    "- **Recursos**: Libera espaço em disco e memória no cluster, o que pode ser útil para workloads com dados grandes ou dinâmicos.\n",
    "\n",
    "Se você tem certeza de que o cache não é necessário no seu cenário, desabilitar pode simplificar a operação e economizar recursos no cluster."
   ]
  },
  {
   "cell_type": "markdown",
   "metadata": {
    "application/vnd.databricks.v1+cell": {
     "cellMetadata": {},
     "inputWidgets": {},
     "nuid": "13901f2d-8044-4376-9b32-2e3d7b798acc",
     "showTitle": false,
     "tableResultSettingsMap": {},
     "title": ""
    }
   },
   "source": [
    "## Dados de exemplo"
   ]
  },
  {
   "cell_type": "markdown",
   "metadata": {
    "application/vnd.databricks.v1+cell": {
     "cellMetadata": {},
     "inputWidgets": {},
     "nuid": "2fb23e32-1d79-4877-be0e-f5bb1b78e7dc",
     "showTitle": false,
     "tableResultSettingsMap": {},
     "title": ""
    }
   },
   "source": [
    "## Queremos entender o tamanho desse dataset"
   ]
  },
  {
   "cell_type": "code",
   "execution_count": 0,
   "metadata": {
    "application/vnd.databricks.v1+cell": {
     "cellMetadata": {
      "byteLimit": 2048000,
      "rowLimit": 10000
     },
     "inputWidgets": {},
     "nuid": "7c1dde3d-4ac4-4751-82c7-f94249b0efac",
     "showTitle": false,
     "tableResultSettingsMap": {},
     "title": ""
    }
   },
   "outputs": [],
   "source": [
    "total_size = 0\n",
    "\n",
    "for x in dbutils.fs.ls(\"/databricks-datasets/nyctaxi/tripdata/yellow/\"):\n",
    "    print(x.name, \"-\", round(x.size / (1024 * 1024), 2), \"MB\")\n",
    "    total_size += x.size\n",
    "\n",
    "print(\"Total size:\", round(total_size / (1024 * 1024), 2), \"MB\")\n"
   ]
  },
  {
   "cell_type": "markdown",
   "metadata": {
    "application/vnd.databricks.v1+cell": {
     "cellMetadata": {},
     "inputWidgets": {},
     "nuid": "c7fcb450-0992-46d2-b820-7ed31c0743e6",
     "showTitle": false,
     "tableResultSettingsMap": {},
     "title": ""
    }
   },
   "source": [
    "## Dados de 2009"
   ]
  },
  {
   "cell_type": "code",
   "execution_count": 0,
   "metadata": {
    "application/vnd.databricks.v1+cell": {
     "cellMetadata": {
      "byteLimit": 2048000,
      "rowLimit": 10000
     },
     "inputWidgets": {},
     "nuid": "e41352de-0203-40c5-ab2d-3c63ddc199a0",
     "showTitle": false,
     "tableResultSettingsMap": {},
     "title": ""
    }
   },
   "outputs": [],
   "source": [
    "spark\\\n",
    "    .read\\\n",
    "    .csv(\"/databricks-datasets/nyctaxi/tripdata/yellow/yellow_tripdata_2009*\")\\\n",
    "    .count()"
   ]
  },
  {
   "cell_type": "markdown",
   "metadata": {
    "application/vnd.databricks.v1+cell": {
     "cellMetadata": {},
     "inputWidgets": {},
     "nuid": "2f6a78e2-4254-4ffc-be70-e498c159de4e",
     "showTitle": false,
     "tableResultSettingsMap": {},
     "title": ""
    }
   },
   "source": [
    "Vamos investigar o Spark UI\n",
    "\n",
    "Tem várias maneiras de chegarmos aqui."
   ]
  },
  {
   "cell_type": "markdown",
   "metadata": {
    "application/vnd.databricks.v1+cell": {
     "cellMetadata": {},
     "inputWidgets": {},
     "nuid": "c5dd0322-f496-425e-8e77-91f8a006e8b3",
     "showTitle": false,
     "tableResultSettingsMap": {},
     "title": ""
    }
   },
   "source": [
    "## Dados de 2009 e 2010"
   ]
  },
  {
   "cell_type": "code",
   "execution_count": 0,
   "metadata": {
    "application/vnd.databricks.v1+cell": {
     "cellMetadata": {
      "byteLimit": 2048000,
      "rowLimit": 10000
     },
     "inputWidgets": {},
     "nuid": "bdb08608-589f-40d7-8d62-155b92dcad5e",
     "showTitle": false,
     "tableResultSettingsMap": {},
     "title": ""
    }
   },
   "outputs": [],
   "source": [
    "spark\\\n",
    "    .read\\\n",
    "    .csv(\"/databricks-datasets/nyctaxi/tripdata/yellow/yellow_tripdata_{2009,2010}*\")\\\n",
    "    .count()"
   ]
  },
  {
   "cell_type": "markdown",
   "metadata": {
    "application/vnd.databricks.v1+cell": {
     "cellMetadata": {},
     "inputWidgets": {},
     "nuid": "da83565e-67cb-4a73-abbc-b9abca62759d",
     "showTitle": false,
     "tableResultSettingsMap": {},
     "title": ""
    }
   },
   "source": [
    "## Lendo somente 1 arquivo"
   ]
  },
  {
   "cell_type": "code",
   "execution_count": 0,
   "metadata": {
    "application/vnd.databricks.v1+cell": {
     "cellMetadata": {
      "byteLimit": 2048000,
      "rowLimit": 10000
     },
     "inputWidgets": {},
     "nuid": "45afcd0a-eefd-488a-b679-d04fa911796b",
     "showTitle": false,
     "tableResultSettingsMap": {},
     "title": ""
    }
   },
   "outputs": [],
   "source": [
    "spark\\\n",
    "    .read\\\n",
    "    .csv(\"/databricks-datasets/nyctaxi/tripdata/yellow/yellow_tripdata_2019-12.csv.gz\")\\\n",
    "    .count()"
   ]
  }
 ],
 "metadata": {
  "application/vnd.databricks.v1+notebook": {
   "computePreferences": null,
   "dashboards": [],
   "environmentMetadata": {
    "base_environment": "",
    "client": "2"
   },
   "language": "python",
   "notebookMetadata": {
    "pythonIndentUnit": 4
   },
   "notebookName": "1. Quick starter",
   "widgets": {}
  },
  "language_info": {
   "name": "python"
  }
 },
 "nbformat": 4,
 "nbformat_minor": 0
}
