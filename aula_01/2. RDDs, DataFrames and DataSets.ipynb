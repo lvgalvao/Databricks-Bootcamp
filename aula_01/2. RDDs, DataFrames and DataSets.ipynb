{
 "cells": [
  {
   "cell_type": "markdown",
   "metadata": {
    "application/vnd.databricks.v1+cell": {
     "cellMetadata": {},
     "inputWidgets": {},
     "nuid": "d647f558-b3af-4a02-b97c-a7a4ba953da6",
     "showTitle": false,
     "tableResultSettingsMap": {},
     "title": ""
    }
   },
   "source": [
    "# Nossa task\n",
    "\n",
    "Encontrar o número de viagens, por número de passageiros"
   ]
  },
  {
   "cell_type": "code",
   "execution_count": 0,
   "metadata": {
    "application/vnd.databricks.v1+cell": {
     "cellMetadata": {
      "byteLimit": 2048000,
      "rowLimit": 10000
     },
     "inputWidgets": {},
     "nuid": "6641bab6-8516-4bd0-beda-fb820c7f45a6",
     "showTitle": false,
     "tableResultSettingsMap": {},
     "title": ""
    }
   },
   "outputs": [],
   "source": [
    "%fs ls dbfs:/databricks-datasets/nyctaxi/tripdata/yellow"
   ]
  },
  {
   "cell_type": "code",
   "execution_count": 0,
   "metadata": {
    "application/vnd.databricks.v1+cell": {
     "cellMetadata": {
      "byteLimit": 2048000,
      "rowLimit": 10000
     },
     "inputWidgets": {},
     "nuid": "7c1dde3d-4ac4-4751-82c7-f94249b0efac",
     "showTitle": false,
     "tableResultSettingsMap": {},
     "title": ""
    }
   },
   "outputs": [],
   "source": [
    "display(spark.read.csv(\"dbfs:/databricks-datasets/nyctaxi/tripdata/yellow\", header=True))"
   ]
  },
  {
   "cell_type": "markdown",
   "metadata": {
    "application/vnd.databricks.v1+cell": {
     "cellMetadata": {},
     "inputWidgets": {},
     "nuid": "c7fcb450-0992-46d2-b820-7ed31c0743e6",
     "showTitle": false,
     "tableResultSettingsMap": {},
     "title": ""
    }
   },
   "source": [
    "Setup"
   ]
  },
  {
   "cell_type": "code",
   "execution_count": 0,
   "metadata": {
    "application/vnd.databricks.v1+cell": {
     "cellMetadata": {
      "byteLimit": 2048000,
      "rowLimit": 10000
     },
     "inputWidgets": {},
     "nuid": "e41352de-0203-40c5-ab2d-3c63ddc199a0",
     "showTitle": false,
     "tableResultSettingsMap": {},
     "title": ""
    }
   },
   "outputs": [],
   "source": [
    "rdd = sc.textFile(\"dbfs:/databricks-datasets/nyctaxi/tripdata/yellow/yellow_tripdata_2011-04.csv.gz\") \\\n",
    "        .filter(lambda row: \"vendor_id\" not in row)\n",
    "\n",
    "rdd = rdd.map(lambda line: line.split(\",\")) \\\n",
    "         .filter(lambda row: len(row) > 3)  # Garante que haja pelo menos 4 colunas\n",
    "\n",
    "contagem_do_numero_de_passageiros = rdd.map(lambda row: (row[3], 1)) \\\n",
    "                                       .reduceByKey(lambda x, y: x + y)\n",
    "\n",
    "for passenger_count, trip_count in contagem_do_numero_de_passageiros.collect():\n",
    "    print(f\"o número de passageiros é {passenger_count} e o número de viagens é {trip_count}\")\n"
   ]
  },
  {
   "cell_type": "markdown",
   "metadata": {
    "application/vnd.databricks.v1+cell": {
     "cellMetadata": {},
     "inputWidgets": {},
     "nuid": "c5dd0322-f496-425e-8e77-91f8a006e8b3",
     "showTitle": false,
     "tableResultSettingsMap": {},
     "title": ""
    }
   },
   "source": [
    "Dataframes"
   ]
  },
  {
   "cell_type": "code",
   "execution_count": 0,
   "metadata": {
    "application/vnd.databricks.v1+cell": {
     "cellMetadata": {
      "byteLimit": 2048000,
      "rowLimit": 10000
     },
     "inputWidgets": {},
     "nuid": "bdb08608-589f-40d7-8d62-155b92dcad5e",
     "showTitle": false,
     "tableResultSettingsMap": {},
     "title": ""
    }
   },
   "outputs": [],
   "source": [
    "df2 = spark.read.option(\"header\", True).csv(\"dbfs:/databricks-datasets/nyctaxi/tripdata/yellow/yellow_tripdata_2011-04.csv.gz\")\n",
    "\n",
    "df2.groupBy(\"passenger_count\").count().show()\n"
   ]
  },
  {
   "cell_type": "markdown",
   "metadata": {
    "application/vnd.databricks.v1+cell": {
     "cellMetadata": {},
     "inputWidgets": {},
     "nuid": "3eca9d85-255d-4e0b-807a-0a5358b3f6f4",
     "showTitle": false,
     "tableResultSettingsMap": {},
     "title": ""
    }
   },
   "source": [
    "Dataset"
   ]
  },
  {
   "cell_type": "code",
   "execution_count": 0,
   "metadata": {
    "application/vnd.databricks.v1+cell": {
     "cellMetadata": {
      "byteLimit": 2048000,
      "rowLimit": 10000
     },
     "inputWidgets": {},
     "nuid": "45afcd0a-eefd-488a-b679-d04fa911796b",
     "showTitle": false,
     "tableResultSettingsMap": {},
     "title": ""
    }
   },
   "outputs": [],
   "source": [
    "%scala\n",
    "\n",
    "// Declaração correta da classe TaxiTrip\n",
    "case class TaxiTrip(\n",
    "  vendor_id: String,\n",
    "  pickup_datetime: String,\n",
    "  dropoff_datetime: String,\n",
    "  passenger_count: String,\n",
    "  trip_distance: String,\n",
    "  pickup_longitude: String,\n",
    "  pickup_latitude: String,\n",
    "  rate_code: String,\n",
    "  store_and_fwd_flag: String,\n",
    "  dropoff_longitude: String,\n",
    "  dropoff_latitude: String,\n",
    "  payment_type: String,\n",
    "  fare_amount: String,\n",
    "  surcharge: String,\n",
    "  mta_tax: String,\n",
    "  tip_amount: String,\n",
    "  tolls_amount: String,\n",
    "  total_amount: String\n",
    ")\n",
    "\n",
    "df2 = spark.read.option(\"header\", True).csv(\"dbfs:/databricks-datasets/nyctaxi/tripdata/yellow/yellow_tripdata_2011-04.csv.gz\")\n",
    "\n",
    "// Leitura do arquivo e transformação em Dataset\n",
    "val dataset = spark.read\n",
    "  .option(\"header\", true)\n",
    "  .csv(\"dbfs:/databricks-datasets/nyctaxi/tripdata/yellow/yellow_tripdata_2011-04.csv.gz\")\n",
    "  .as[TaxiTrip] // Converte o DataFrame em Dataset\n",
    "\n",
    "// Agrupamento por `Passenger_Count` e contagem\n",
    "dataset.groupBy(\"Passenger_Count\").count().show()\n"
   ]
  }
 ],
 "metadata": {
  "application/vnd.databricks.v1+notebook": {
   "computePreferences": null,
   "dashboards": [],
   "environmentMetadata": {
    "base_environment": "",
    "environment_version": "2"
   },
   "language": "python",
   "notebookMetadata": {
    "mostRecentlyExecutedCommandWithImplicitDF": {
     "commandId": 2257831271513481,
     "dataframes": [
      "_sqldf"
     ]
    },
    "pythonIndentUnit": 4
   },
   "notebookName": "2. RDDs, DataFrames and DataSets",
   "widgets": {}
  },
  "language_info": {
   "name": "python"
  }
 },
 "nbformat": 4,
 "nbformat_minor": 0
}
