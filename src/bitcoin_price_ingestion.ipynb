{
 "cells": [
  {
   "cell_type": "code",
   "execution_count": 0,
   "metadata": {
    "application/vnd.databricks.v1+cell": {
     "cellMetadata": {
      "byteLimit": 2048000,
      "rowLimit": 10000
     },
     "inputWidgets": {},
     "nuid": "d2339bdd-8c2f-440f-9313-5d8ce18e2cfb",
     "showTitle": false,
     "tableResultSettingsMap": {},
     "title": ""
    }
   },
   "outputs": [],
   "source": [
    "import requests\n",
    "from pyspark.sql import SparkSession\n",
    "from pyspark.sql.types import StructType, StructField, StringType, FloatType, TimestampType\n",
    "from datetime import datetime\n",
    "\n",
    "# Inicializar Spark\n",
    "spark = SparkSession.builder.appName(\"Bitcoin Price Ingestion\").getOrCreate()\n",
    "\n",
    "# Configuração da API\n",
    "API_URL = \"https://api.coinbase.com/v2/prices/spot?currency=USD\"\n",
    "\n",
    "def fetch_bitcoin_price():\n",
    "    \"\"\"Obtém o preço atual do Bitcoin da API Coinbase.\"\"\"\n",
    "    try:\n",
    "        response = requests.get(API_URL)\n",
    "        response.raise_for_status()\n",
    "        data = response.json()[\"data\"]\n",
    "        # Adiciona timestamp no formato datetime\n",
    "        return {\n",
    "            \"amount\": float(data[\"amount\"]),\n",
    "            \"base\": data[\"base\"],\n",
    "            \"currency\": data[\"currency\"],\n",
    "            \"datetime\": datetime.now()\n",
    "        }\n",
    "    except requests.exceptions.RequestException as e:\n",
    "        raise Exception(f\"Erro ao acessar a API: {e}\")\n",
    "\n",
    "def save_to_delta(data):\n",
    "    \"\"\"Salva os dados no Delta Lake.\"\"\"\n",
    "    # Definir o schema com a nova coluna datetime\n",
    "    schema = StructType([\n",
    "        StructField(\"amount\", FloatType(), True),\n",
    "        StructField(\"base\", StringType(), True),\n",
    "        StructField(\"currency\", StringType(), True),\n",
    "        StructField(\"datetime\", TimestampType(), True)\n",
    "    ])\n",
    "    \n",
    "    # Converter para DataFrame\n",
    "    data_df = spark.createDataFrame([data], schema=schema)\n",
    "    \n",
    "    # Caminho no Delta Lake\n",
    "    delta_path = \"/mnt/delta/bitcoin_price\"\n",
    "    \n",
    "    # Escrever no Delta Lake no modo append\n",
    "    data_df.write.format(\"delta\").mode(\"append\").save(delta_path)\n",
    "    print(f\"Dados salvos em Delta Table no caminho: {delta_path}\")\n",
    "\n",
    "if __name__ == \"__main__\":\n",
    "    # Obter dados da API\n",
    "    print(\"Obtendo dados da API Coinbase...\")\n",
    "    bitcoin_price = fetch_bitcoin_price()\n",
    "    print(\"Dados obtidos:\", bitcoin_price)\n",
    "    \n",
    "    # Salvar no Delta Lake\n",
    "    print(\"Salvando dados no Delta Lake...\")\n",
    "    save_to_delta(bitcoin_price)\n",
    "    print(\"Pipeline concluído com sucesso.\")\n"
   ]
  }
 ],
 "metadata": {
  "application/vnd.databricks.v1+notebook": {
   "computePreferences": null,
   "dashboards": [],
   "environmentMetadata": {
    "base_environment": "",
    "environment_version": "2"
   },
   "language": "python",
   "notebookMetadata": {
    "pythonIndentUnit": 4
   },
   "notebookName": "bitcoin_price_ingestion",
   "widgets": {}
  },
  "language_info": {
   "name": "python"
  }
 },
 "nbformat": 4,
 "nbformat_minor": 0
}
