{
 "cells": [
  {
   "cell_type": "code",
   "execution_count": 0,
   "metadata": {
    "application/vnd.databricks.v1+cell": {
     "cellMetadata": {
      "byteLimit": 2048000,
      "rowLimit": 10000
     },
     "inputWidgets": {},
     "nuid": "d2339bdd-8c2f-440f-9313-5d8ce18e2cfb",
     "showTitle": false,
     "tableResultSettingsMap": {},
     "title": ""
    }
   },
   "outputs": [],
   "source": [
    "import requests\n",
    "from pyspark.sql import SparkSession\n",
    "from pyspark.sql.types import StructType, StructField, StringType, FloatType\n",
    "\n",
    "# Inicializar Spark\n",
    "spark = SparkSession.builder.appName(\"Bitcoin Price Integration\").getOrCreate()\n",
    "\n",
    "# Função para obter o preço atual do Bitcoin\n",
    "def fetch_bitcoin_price():\n",
    "    \"\"\"Obtém o preço atual do Bitcoin na Coinbase.\"\"\"\n",
    "    url = 'https://api.coinbase.com/v2/prices/spot?currency=USD'\n",
    "    response = requests.get(url)\n",
    "    if response.status_code == 200:\n",
    "        data = response.json()['data']\n",
    "        return {\n",
    "            \"amount\": float(data['amount']),\n",
    "            \"base\": data['base'],\n",
    "            \"currency\": data['currency']\n",
    "        }\n",
    "    else:\n",
    "        raise Exception(f\"Erro ao consultar API: {response.status_code}\")\n",
    "\n",
    "# Função para salvar os dados no Delta Lake\n",
    "def save_to_delta(data):\n",
    "    \"\"\"Salva os dados em uma Delta Table.\"\"\"\n",
    "    # Estrutura do schema\n",
    "    schema = StructType([\n",
    "        StructField(\"amount\", FloatType(), True),\n",
    "        StructField(\"base\", StringType(), True),\n",
    "        StructField(\"currency\", StringType(), True)\n",
    "    ])\n",
    "\n",
    "    # Converter para DataFrame Spark\n",
    "    data_df = spark.createDataFrame([data], schema=schema)\n",
    "\n",
    "    # Escrever em Delta Table\n",
    "    delta_path = \"/mnt/delta/bitcoin_price\"\n",
    "    data_df.write.format(\"delta\").mode(\"append\").save(delta_path)\n",
    "    print(f\"Dados salvos em Delta Table no caminho: {delta_path}\")\n",
    "\n",
    "# Pipeline principal\n",
    "if __name__ == \"__main__\":\n",
    "    print(\"Obtendo o preço do Bitcoin...\")\n",
    "    bitcoin_price = fetch_bitcoin_price()\n",
    "    print(f\"Preço do Bitcoin obtido: {bitcoin_price['amount']} {bitcoin_price['currency']}\")\n",
    "    \n",
    "    print(\"Salvando os dados no Delta Lake...\")\n",
    "    save_to_delta(bitcoin_price)\n",
    "    print(\"Pipeline concluído com sucesso.\")\n"
   ]
  }
 ],
 "metadata": {
  "application/vnd.databricks.v1+notebook": {
   "computePreferences": null,
   "dashboards": [],
   "environmentMetadata": {
    "base_environment": "",
    "client": "2"
   },
   "language": "python",
   "notebookMetadata": {
    "pythonIndentUnit": 4
   },
   "notebookName": "bitcoin_price_ingestion",
   "widgets": {}
  },
  "language_info": {
   "name": "python"
  }
 },
 "nbformat": 4,
 "nbformat_minor": 0
}
