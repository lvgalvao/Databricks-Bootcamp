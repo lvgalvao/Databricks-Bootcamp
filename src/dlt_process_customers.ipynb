{
 "cells": [
  {
   "cell_type": "code",
   "execution_count": 0,
   "metadata": {
    "application/vnd.databricks.v1+cell": {
     "cellMetadata": {
      "byteLimit": 2048000,
      "rowLimit": 10000
     },
     "inputWidgets": {},
     "nuid": "2f40d070-918a-49fe-a284-1b28ee211c2b",
     "showTitle": false,
     "tableResultSettingsMap": {},
     "title": ""
    }
   },
   "outputs": [],
   "source": [
    "-- Tabela de origem: Lê os arquivos JSON do bucket S3\n",
    "CREATE OR REFRESH STREAMING LIVE TABLE raw_customers\n",
    "COMMENT \"Dados brutos dos novos clientes do bucket S3\"\n",
    "AS SELECT *\n",
    "FROM cloud_files(\n",
    "    \"s3a://dados-novos-clientes\",\n",
    "    \"json\",\n",
    "    MAP(\n",
    "        \"inferSchema\", \"true\",     -- Deduzir automaticamente o esquema do JSON\n",
    "        \"multiline\", \"true\"        -- Permitir arquivos JSON com várias linhas\n",
    "    )\n",
    ");\n"
   ]
  }
 ],
 "metadata": {
  "application/vnd.databricks.v1+notebook": {
   "computePreferences": null,
   "dashboards": [],
   "environmentMetadata": {
    "base_environment": "",
    "environment_version": "2"
   },
   "language": "sql",
   "notebookMetadata": {
    "pythonIndentUnit": 4
   },
   "notebookName": "dlt_process_customers",
   "widgets": {}
  },
  "language_info": {
   "name": "sql"
  }
 },
 "nbformat": 4,
 "nbformat_minor": 0
}
