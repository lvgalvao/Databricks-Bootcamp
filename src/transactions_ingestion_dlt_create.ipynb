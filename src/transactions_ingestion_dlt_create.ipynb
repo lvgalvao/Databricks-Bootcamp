{
 "cells": [
  {
   "cell_type": "code",
   "execution_count": 0,
   "metadata": {
    "application/vnd.databricks.v1+cell": {
     "cellMetadata": {
      "byteLimit": 2048000,
      "rowLimit": 10000
     },
     "inputWidgets": {},
     "nuid": "fef68047-871f-4219-8666-3894c67b241e",
     "showTitle": false,
     "tableResultSettingsMap": {},
     "title": ""
    }
   },
   "outputs": [],
   "source": [
    "from pyspark.sql.functions import col\n",
    "from pyspark.sql import DataFrame\n",
    "\n",
    "# Configurações de conexão com o PostgreSQL\n",
    "jdbc_url = \"jdbc:postgresql://dpg-cuciu352ng1s73b52bgg-a.ohio-postgres.render.com:5432/transactions_yz0m\"\n",
    "jdbc_properties = {\n",
    "    \"user\": \"transactions_yz0m_user\",\n",
    "    \"password\": \"66BsNmXaNh3btK1ZY8GLbnrFmwUFK9xY\",\n",
    "    \"driver\": \"org.postgresql.Driver\"\n",
    "}\n",
    "\n",
    "# Nome das tabelas\n",
    "postgres_table = \"transactions\"\n",
    "raw_table = \"raw_transactions\"\n",
    "final_table = \"transactions\"\n",
    "\n",
    "# Função para carregar dados incrementais do PostgreSQL\n",
    "def load_incremental_data() -> DataFrame:\n",
    "    # Verificar o último registro em raw_transactions\n",
    "    if spark.catalog.tableExists(raw_table):\n",
    "        last_transaction_date = spark.sql(f\"SELECT MAX(transaction_date) FROM {raw_table}\").collect()[0][0]\n",
    "        if last_transaction_date:\n",
    "            print(f\"Última transação registrada: {last_transaction_date}\")\n",
    "            query = f\"\"\"\n",
    "                (SELECT * FROM {postgres_table} WHERE transaction_date > '{last_transaction_date}') AS t\n",
    "            \"\"\"\n",
    "        else:\n",
    "            query = f\"(SELECT * FROM {postgres_table}) AS t\"\n",
    "    else:\n",
    "        print(\"Tabela 'raw_transactions' não encontrada. Criando pela primeira vez.\")\n",
    "        query = f\"(SELECT * FROM {postgres_table}) AS t\"\n",
    "\n",
    "    # Carregar dados do PostgreSQL\n",
    "    return (\n",
    "        spark.read.format(\"jdbc\")\n",
    "        .option(\"url\", jdbc_url)\n",
    "        .option(\"dbtable\", query)\n",
    "        .option(\"user\", jdbc_properties[\"user\"])\n",
    "        .option(\"password\", jdbc_properties[\"password\"])\n",
    "        .option(\"driver\", jdbc_properties[\"driver\"])\n",
    "        .load()\n",
    "    )\n",
    "\n",
    "# Atualizar a tabela raw_transactions\n",
    "def update_raw_transactions():\n",
    "    # Carregar os dados incrementais\n",
    "    incremental_data = load_incremental_data()\n",
    "\n",
    "    if incremental_data.count() > 0:\n",
    "        print(f\"Inserindo {incremental_data.count()} novos registros em 'raw_transactions'...\")\n",
    "        incremental_data.write.format(\"delta\").mode(\"append\").saveAsTable(raw_table)\n",
    "        print(\"Atualização de 'raw_transactions' concluída.\")\n",
    "    else:\n",
    "        print(\"Nenhum dado novo encontrado para atualizar em 'raw_transactions'.\")\n",
    "\n",
    "# Atualizar a tabela final transactions\n",
    "def update_transactions():\n",
    "    if spark.catalog.tableExists(raw_table):\n",
    "        print(\"Atualizando a tabela final 'transactions' com os dados de 'raw_transactions'...\")\n",
    "        raw_data = spark.table(raw_table)\n",
    "        raw_data.write.format(\"delta\").mode(\"overwrite\").saveAsTable(final_table)\n",
    "        print(\"Tabela 'transactions' atualizada com sucesso.\")\n",
    "    else:\n",
    "        print(\"A tabela 'raw_transactions' não existe. Não há dados para atualizar.\")\n",
    "\n",
    "# Executar o pipeline\n",
    "if __name__ == \"__main__\":\n",
    "    update_raw_transactions()\n",
    "    update_transactions()\n"
   ]
  }
 ],
 "metadata": {
  "application/vnd.databricks.v1+notebook": {
   "computePreferences": null,
   "dashboards": [],
   "environmentMetadata": {
    "base_environment": "",
    "client": "2"
   },
   "language": "python",
   "notebookMetadata": {
    "pythonIndentUnit": 4
   },
   "notebookName": "transactions_ingestion_dlt_create",
   "widgets": {}
  },
  "language_info": {
   "name": "python"
  }
 },
 "nbformat": 4,
 "nbformat_minor": 0
}
