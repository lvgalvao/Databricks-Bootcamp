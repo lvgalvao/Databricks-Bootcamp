{
 "cells": [
  {
   "cell_type": "code",
   "execution_count": 0,
   "metadata": {
    "application/vnd.databricks.v1+cell": {
     "cellMetadata": {},
     "inputWidgets": {},
     "nuid": "fef68047-871f-4219-8666-3894c67b241e",
     "showTitle": false,
     "tableResultSettingsMap": {},
     "title": ""
    }
   },
   "outputs": [],
   "source": [
    "import dlt\n",
    "from pyspark.sql.functions import col\n",
    "\n",
    "# Configurações de conexão com o PostgreSQL\n",
    "jdbc_url = \"jdbc:postgresql://dpg-cuciu352ng1s73b52bgg-a.ohio-postgres.render.com:5432/transactions_yz0m\"\n",
    "jdbc_properties = {\n",
    "    \"user\": \"transactions_yz0m_user\",\n",
    "    \"password\": \"66BsNmXaNh3btK1ZY8GLbnrFmwUFK9xY\",\n",
    "    \"driver\": \"org.postgresql.Driver\"\n",
    "}\n",
    "\n",
    "# Nome da tabela no PostgreSQL\n",
    "postgres_table = \"transactions\"\n",
    "\n",
    "# Função para carregar dados do PostgreSQL\n",
    "@dlt.table(\n",
    "    comment=\"Carrega dados de transações do PostgreSQL\"\n",
    ")\n",
    "def raw_transactions():\n",
    "    return (\n",
    "        spark.read.format(\"jdbc\")\n",
    "        .option(\"url\", jdbc_url)\n",
    "        .option(\"dbtable\", postgres_table)\n",
    "        .option(\"user\", jdbc_properties[\"user\"])\n",
    "        .option(\"password\", jdbc_properties[\"password\"])\n",
    "        .option(\"driver\", jdbc_properties[\"driver\"])\n",
    "        .load()\n",
    "    )\n",
    "\n",
    "# Processar apenas os dados novos com base em `transaction_time`\n",
    "@dlt.table(\n",
    "    comment=\"Tabela Delta gerenciada com dados incrementais de transações\"\n",
    ")\n",
    "def transactions():\n",
    "    raw_data = dlt.read(\"raw_transactions\")\n",
    "    # Transformação opcional e deduplicação de dados\n",
    "    return raw_data.filter(\n",
    "        col(\"transaction_time\") > dlt.read_stream(\"transactions\").selectExpr(\"MAX(transaction_date)\").collect()[0][0]\n",
    "    )\n"
   ]
  }
 ],
 "metadata": {
  "application/vnd.databricks.v1+notebook": {
   "computePreferences": null,
   "dashboards": [],
   "environmentMetadata": {
    "base_environment": "",
    "client": "2"
   },
   "language": "python",
   "notebookMetadata": {
    "pythonIndentUnit": 4
   },
   "notebookName": "transactions_ingestion_dlt",
   "widgets": {}
  },
  "language_info": {
   "name": "python"
  }
 },
 "nbformat": 4,
 "nbformat_minor": 0
}
