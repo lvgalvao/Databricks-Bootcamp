{
 "cells": [
  {
   "cell_type": "markdown",
   "metadata": {
    "application/vnd.databricks.v1+cell": {
     "cellMetadata": {},
     "inputWidgets": {},
     "nuid": "0119f566-3e13-427c-8933-d5ec293628b8",
     "showTitle": false,
     "tableResultSettingsMap": {},
     "title": ""
    }
   },
   "source": [
    "# Consultas SQL para KPIs\n"
   ]
  },
  {
   "cell_type": "markdown",
   "metadata": {
    "application/vnd.databricks.v1+cell": {
     "cellMetadata": {},
     "inputWidgets": {},
     "nuid": "2313bb09-57f8-4d64-9488-3f67583af5f7",
     "showTitle": false,
     "tableResultSettingsMap": {},
     "title": ""
    }
   },
   "source": [
    "### 1. Volume Total de Transações por Dia\n"
   ]
  },
  {
   "cell_type": "code",
   "execution_count": 0,
   "metadata": {
    "application/vnd.databricks.v1+cell": {
     "cellMetadata": {
      "byteLimit": 2048000,
      "implicitDf": true,
      "rowLimit": 10000
     },
     "inputWidgets": {},
     "nuid": "f88cb063-7774-4229-9718-1d287a4f7321",
     "showTitle": false,
     "tableResultSettingsMap": {},
     "title": ""
    }
   },
   "outputs": [],
   "source": [
    "%sql\n",
    "SELECT \n",
    "    DATE(transaction_date) AS transaction_day,\n",
    "    SUM(usd_value) AS total_transaction_volume_usd,\n",
    "    SUM(btc_amount) AS total_transaction_volume_btc,\n",
    "    COUNT(*) AS transaction_count\n",
    "FROM transactions\n",
    "GROUP BY DATE(transaction_date)\n",
    "ORDER BY transaction_day;\n"
   ]
  },
  {
   "cell_type": "markdown",
   "metadata": {
    "application/vnd.databricks.v1+cell": {
     "cellMetadata": {},
     "inputWidgets": {},
     "nuid": "efd7b3a6-5cb3-4f8f-bfd0-c7d2684e213d",
     "showTitle": false,
     "tableResultSettingsMap": {},
     "title": ""
    }
   },
   "source": [
    "### 2. Volume de Transações por Cliente"
   ]
  },
  {
   "cell_type": "code",
   "execution_count": 0,
   "metadata": {
    "application/vnd.databricks.v1+cell": {
     "cellMetadata": {
      "byteLimit": 2048000,
      "implicitDf": true,
      "rowLimit": 10000
     },
     "inputWidgets": {},
     "nuid": "cf0867f8-116e-469a-9f64-98bdecd85f7b",
     "showTitle": false,
     "tableResultSettingsMap": {},
     "title": ""
    }
   },
   "outputs": [],
   "source": [
    "%sql\n",
    "SELECT \n",
    "    customer_id,\n",
    "    SUM(usd_value) AS total_usd_value,\n",
    "    SUM(btc_amount) AS total_btc_value,\n",
    "    COUNT(*) AS total_transactions\n",
    "FROM transactions\n",
    "GROUP BY customer_id\n",
    "ORDER BY total_usd_value DESC;\n"
   ]
  },
  {
   "cell_type": "markdown",
   "metadata": {
    "application/vnd.databricks.v1+cell": {
     "cellMetadata": {},
     "inputWidgets": {},
     "nuid": "09d46da8-5a3f-4627-8480-829ab9d26ee6",
     "showTitle": false,
     "tableResultSettingsMap": {},
     "title": ""
    }
   },
   "source": [
    "### 3. Volume de Transações Durante o Horário de Pico\n"
   ]
  },
  {
   "cell_type": "code",
   "execution_count": 0,
   "metadata": {
    "application/vnd.databricks.v1+cell": {
     "cellMetadata": {
      "byteLimit": 2048000,
      "implicitDf": true,
      "rowLimit": 10000
     },
     "inputWidgets": {},
     "nuid": "731f6fcc-2a87-4d5a-92c6-d2e7315f9011",
     "showTitle": false,
     "tableResultSettingsMap": {},
     "title": ""
    }
   },
   "outputs": [],
   "source": [
    "%sql\n",
    "SELECT \n",
    "    DATE(transaction_date) AS transaction_day,\n",
    "    SUM(usd_value) AS peak_volume_usd,\n",
    "    SUM(btc_amount) AS peak_volume_btc,\n",
    "    COUNT(*) AS peak_transaction_count\n",
    "FROM transactions\n",
    "WHERE HOUR(transaction_date) BETWEEN 18 AND 21\n",
    "GROUP BY DATE(transaction_date)\n",
    "ORDER BY transaction_day;\n"
   ]
  },
  {
   "cell_type": "markdown",
   "metadata": {
    "application/vnd.databricks.v1+cell": {
     "cellMetadata": {},
     "inputWidgets": {},
     "nuid": "32428647-6aec-4a3b-a4c8-dc2fd8731327",
     "showTitle": false,
     "tableResultSettingsMap": {},
     "title": ""
    }
   },
   "source": [
    "### 4. Média de Preço do Bitcoin por Transação\n"
   ]
  },
  {
   "cell_type": "code",
   "execution_count": 0,
   "metadata": {
    "application/vnd.databricks.v1+cell": {
     "cellMetadata": {
      "byteLimit": 2048000,
      "implicitDf": true,
      "rowLimit": 10000
     },
     "inputWidgets": {},
     "nuid": "8eadda8a-089e-4939-827a-d98f0082ff54",
     "showTitle": false,
     "tableResultSettingsMap": {},
     "title": ""
    }
   },
   "outputs": [],
   "source": [
    "%sql\n",
    "SELECT \n",
    "    t.transaction_id,\n",
    "    t.transaction_date,\n",
    "    t.customer_id,\n",
    "    t.btc_amount,\n",
    "    t.usd_value,\n",
    "    b.amount AS bitcoin_price_at_transaction,\n",
    "    (t.usd_value / t.btc_amount) AS actual_price_per_btc\n",
    "FROM transactions t\n",
    "JOIN bitcoin_price b\n",
    "ON DATE(t.transaction_date) = DATE(b.datetime)\n",
    "   AND HOUR(t.transaction_date) = HOUR(b.datetime)\n",
    "ORDER BY t.transaction_date;\n"
   ]
  },
  {
   "cell_type": "markdown",
   "metadata": {
    "application/vnd.databricks.v1+cell": {
     "cellMetadata": {},
     "inputWidgets": {},
     "nuid": "215b6ba5-8283-4dcb-ba7e-5e39178cbdf3",
     "showTitle": false,
     "tableResultSettingsMap": {},
     "title": ""
    }
   },
   "source": [
    "### 5. Clientes com o Maior Saldo de Bitcoin"
   ]
  },
  {
   "cell_type": "code",
   "execution_count": 0,
   "metadata": {
    "application/vnd.databricks.v1+cell": {
     "cellMetadata": {
      "byteLimit": 2048000,
      "implicitDf": true,
      "rowLimit": 10000
     },
     "inputWidgets": {},
     "nuid": "4c88034f-7b21-4410-8eb6-a160f2af7813",
     "showTitle": false,
     "tableResultSettingsMap": {},
     "title": ""
    }
   },
   "outputs": [],
   "source": [
    "%sql\n",
    "SELECT \n",
    "    customer_id,\n",
    "    name,\n",
    "    email,\n",
    "    btc_balance,\n",
    "    usd_balance,\n",
    "    last_update\n",
    "FROM customer_wallets\n",
    "ORDER BY btc_balance DESC\n",
    "LIMIT 10;\n"
   ]
  },
  {
   "cell_type": "markdown",
   "metadata": {
    "application/vnd.databricks.v1+cell": {
     "cellMetadata": {},
     "inputWidgets": {},
     "nuid": "9b872f0a-27f7-4080-817b-8233d14b01cf",
     "showTitle": false,
     "tableResultSettingsMap": {},
     "title": ""
    }
   },
   "source": [
    "### 6. Clientes com Maior Volume de Transações no Horário de Pico\n"
   ]
  },
  {
   "cell_type": "code",
   "execution_count": 0,
   "metadata": {
    "application/vnd.databricks.v1+cell": {
     "cellMetadata": {
      "byteLimit": 2048000,
      "implicitDf": true,
      "rowLimit": 10000
     },
     "inputWidgets": {},
     "nuid": "b4f18b3d-92d7-4736-a705-77285c9a6f63",
     "showTitle": false,
     "tableResultSettingsMap": {},
     "title": ""
    }
   },
   "outputs": [],
   "source": [
    "%sql\n",
    "SELECT \n",
    "    customer_id,\n",
    "    SUM(usd_value) AS peak_usd_value,\n",
    "    SUM(btc_amount) AS peak_btc_value,\n",
    "    COUNT(*) AS peak_transaction_count\n",
    "FROM transactions\n",
    "WHERE HOUR(transaction_date) BETWEEN 18 AND 21\n",
    "GROUP BY customer_id\n",
    "ORDER BY peak_usd_value DESC;\n"
   ]
  },
  {
   "cell_type": "markdown",
   "metadata": {
    "application/vnd.databricks.v1+cell": {
     "cellMetadata": {},
     "inputWidgets": {},
     "nuid": "3dbad0cb-80a8-4905-91de-34e620d4156e",
     "showTitle": false,
     "tableResultSettingsMap": {},
     "title": ""
    }
   },
   "source": [
    "### 7. Dias com Maior Volume de Transações\n"
   ]
  },
  {
   "cell_type": "code",
   "execution_count": 0,
   "metadata": {
    "application/vnd.databricks.v1+cell": {
     "cellMetadata": {
      "byteLimit": 2048000,
      "implicitDf": true,
      "rowLimit": 10000
     },
     "inputWidgets": {},
     "nuid": "43f65ce8-de1d-4c4f-8432-b61eb81e448f",
     "showTitle": false,
     "tableResultSettingsMap": {},
     "title": ""
    }
   },
   "outputs": [],
   "source": [
    "%sql\n",
    "SELECT \n",
    "    DATE(transaction_date) AS transaction_day,\n",
    "    SUM(usd_value) AS total_usd_value,\n",
    "    COUNT(*) AS transaction_count\n",
    "FROM transactions\n",
    "GROUP BY DATE(transaction_date)\n",
    "ORDER BY total_usd_value DESC\n",
    "LIMIT 10;\n"
   ]
  },
  {
   "cell_type": "markdown",
   "metadata": {
    "application/vnd.databricks.v1+cell": {
     "cellMetadata": {},
     "inputWidgets": {},
     "nuid": "d6c6269c-6f8d-42ec-adba-3f965f72ba21",
     "showTitle": false,
     "tableResultSettingsMap": {},
     "title": ""
    }
   },
   "source": []
  }
 ],
 "metadata": {
  "application/vnd.databricks.v1+notebook": {
   "computePreferences": null,
   "dashboards": [],
   "environmentMetadata": {
    "base_environment": "",
    "environment_version": "2"
   },
   "language": "python",
   "notebookMetadata": {
    "mostRecentlyExecutedCommandWithImplicitDF": {
     "commandId": 7342001688869410,
     "dataframes": [
      "_sqldf"
     ]
    },
    "pythonIndentUnit": 4
   },
   "notebookName": "calculo_de_kpis",
   "widgets": {}
  },
  "language_info": {
   "name": "python"
  }
 },
 "nbformat": 4,
 "nbformat_minor": 0
}
