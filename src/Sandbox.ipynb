{
 "cells": [
  {
   "cell_type": "markdown",
   "metadata": {
    "application/vnd.databricks.v1+cell": {
     "cellMetadata": {},
     "inputWidgets": {},
     "nuid": "7aa53fc7-5885-4d7a-8fb3-6fc4ada57115",
     "showTitle": false,
     "tableResultSettingsMap": {},
     "title": ""
    }
   },
   "source": [
    "Para realizar um **SELECT** em uma tabela **Delta** no Databricks usando **PySpark (Python)**, você pode usar a API SQL ou DataFrame do Spark. Aqui está o processo:\n",
    "\n",
    "---\n",
    "\n",
    "### **1. Consulta Usando SQL via PySpark**\n",
    "Se a tabela foi criada com o comando `%sql CREATE TABLE`, ela está registrada no catálogo do Databricks (Unity Catalog ou Hive Metastore). Você pode consultar diretamente usando SQL dentro de Python.\n",
    "\n",
    "#### **Código Python**\n",
    "```python\n",
    "# Consultar a tabela registrada no catálogo\n",
    "result_df = spark.sql(\"SELECT * FROM bitcoin_price\")\n",
    "\n",
    "# Mostrar os resultados\n",
    "result_df.show()\n",
    "```\n",
    "\n",
    "---\n",
    "\n",
    "### **2. Consulta Usando a API de DataFrame**\n",
    "Se a tabela **não foi registrada** no catálogo e está apenas no **Delta Lake** no caminho `/mnt/delta/bitcoin_price`, você pode acessar diretamente usando o método `spark.read`.\n",
    "\n",
    "#### **Código Python**\n",
    "```python\n",
    "# Carregar os dados diretamente do Delta Lake\n",
    "result_df = spark.read.format(\"delta\").load(\"/mnt/delta/bitcoin_price\")\n",
    "\n",
    "# Mostrar os resultados\n",
    "result_df.show()\n",
    "```\n",
    "\n",
    "---\n",
    "\n",
    "### **3. Diferença Entre os Métodos**\n",
    "- **Usando SQL (`spark.sql`)**:\n",
    "  - É possível consultar tabelas que foram registradas no catálogo.\n",
    "  - Simples e adequado para quem prefere trabalhar com SQL.\n",
    "\n",
    "- **Usando a API DataFrame (`spark.read.format`)**:\n",
    "  - Útil para acessar diretamente os dados em caminhos físicos (como `/mnt/delta/...`).\n",
    "  - Flexível para pipelines que não requerem registro de tabela.\n",
    "\n",
    "---\n",
    "\n",
    "### **Resumo**\n",
    "1. Use **`spark.sql`** para consultar tabelas registradas no catálogo:\n",
    "   ```python\n",
    "   spark.sql(\"SELECT * FROM bitcoin_price\").show()\n",
    "   ```\n",
    "\n",
    "2. Use **`spark.read.format(\"delta\")`** para acessar diretamente os dados:\n",
    "   ```python\n",
    "   spark.read.format(\"delta\").load(\"/mnt/delta/bitcoin_price\").show()\n",
    "   ```\n",
    "\n",
    "Escolha a abordagem que melhor se adapta ao seu caso! Se precisar de ajuda com mais consultas ou análises, é só avisar. 😊"
   ]
  },
  {
   "cell_type": "code",
   "execution_count": 0,
   "metadata": {
    "application/vnd.databricks.v1+cell": {
     "cellMetadata": {
      "byteLimit": 2048000,
      "rowLimit": 10000
     },
     "inputWidgets": {},
     "nuid": "120ad33d-5678-4eaf-a7f2-1b8870574f6e",
     "showTitle": false,
     "tableResultSettingsMap": {},
     "title": ""
    }
   },
   "outputs": [],
   "source": [
    "df = spark.read.format(\"delta\").load(\"/mnt/delta/bitcoin_price\")\n",
    "df.show()"
   ]
  },
  {
   "cell_type": "code",
   "execution_count": 0,
   "metadata": {
    "application/vnd.databricks.v1+cell": {
     "cellMetadata": {
      "byteLimit": 2048000,
      "rowLimit": 10000
     },
     "inputWidgets": {},
     "nuid": "e2aa3147-4c1a-40e5-bcfb-a09a19352759",
     "showTitle": false,
     "tableResultSettingsMap": {},
     "title": ""
    }
   },
   "outputs": [],
   "source": [
    "df = spark.table(\"default.bitcoin_price\")\n",
    "df.show()\n"
   ]
  },
  {
   "cell_type": "code",
   "execution_count": 0,
   "metadata": {
    "application/vnd.databricks.v1+cell": {
     "cellMetadata": {
      "byteLimit": 2048000,
      "implicitDf": true,
      "rowLimit": 10000
     },
     "inputWidgets": {},
     "nuid": "cb683bf5-752d-4e8e-b81f-692aefdac196",
     "showTitle": false,
     "tableResultSettingsMap": {},
     "title": ""
    }
   },
   "outputs": [],
   "source": [
    "%sql\n",
    "SELECT * FROM default.bitcoin_price"
   ]
  },
  {
   "cell_type": "code",
   "execution_count": 0,
   "metadata": {
    "application/vnd.databricks.v1+cell": {
     "cellMetadata": {
      "byteLimit": 2048000,
      "implicitDf": true,
      "rowLimit": 10000
     },
     "inputWidgets": {},
     "nuid": "7406d4f3-f1ed-4117-a6a0-f8882d544f2c",
     "showTitle": false,
     "tableResultSettingsMap": {},
     "title": ""
    }
   },
   "outputs": [],
   "source": [
    "%sql\n",
    "SELECT count(*) FROM raw_transactions"
   ]
  },
  {
   "cell_type": "code",
   "execution_count": 0,
   "metadata": {
    "application/vnd.databricks.v1+cell": {
     "cellMetadata": {
      "byteLimit": 2048000,
      "implicitDf": true,
      "rowLimit": 10000
     },
     "inputWidgets": {},
     "nuid": "0d95d70a-c473-4201-a402-277ec867fbe1",
     "showTitle": false,
     "tableResultSettingsMap": {},
     "title": ""
    }
   },
   "outputs": [],
   "source": [
    "%sql\n",
    "SELECT \n",
    "    DATE(transaction_date) AS transaction_day,\n",
    "    SUM(usd_value) AS total_transaction_volume_usd,\n",
    "    SUM(btc_amount) AS total_transaction_volume_btc,\n",
    "    COUNT(*) AS transaction_count\n",
    "FROM transactions\n",
    "GROUP BY DATE(transaction_date)\n",
    "ORDER BY transaction_day;\n"
   ]
  },
  {
   "cell_type": "code",
   "execution_count": 0,
   "metadata": {
    "application/vnd.databricks.v1+cell": {
     "cellMetadata": {
      "byteLimit": 2048000,
      "implicitDf": true,
      "rowLimit": 10000
     },
     "inputWidgets": {},
     "nuid": "fd5b55d9-b00a-452b-a74b-e8bce073eb62",
     "showTitle": false,
     "tableResultSettingsMap": {},
     "title": ""
    }
   },
   "outputs": [],
   "source": [
    "%sql\n",
    "SELECT \n",
    "    t.transaction_id,\n",
    "    t.transaction_date,\n",
    "    t.customer_id,\n",
    "    t.btc_amount,\n",
    "    t.usd_value,\n",
    "    b.amount AS bitcoin_price_at_transaction,\n",
    "    (t.usd_value / t.btc_amount) AS actual_price_per_btc\n",
    "FROM transactions t\n",
    "JOIN bitcoin_price b\n",
    "ON DATE(t.transaction_date) = DATE(b.datetime)\n",
    "   AND HOUR(t.transaction_date) = HOUR(b.datetime)\n",
    "ORDER BY t.transaction_date;\n"
   ]
  }
 ],
 "metadata": {
  "application/vnd.databricks.v1+notebook": {
   "computePreferences": null,
   "dashboards": [],
   "environmentMetadata": {
    "base_environment": "",
    "client": "2"
   },
   "language": "python",
   "notebookMetadata": {
    "mostRecentlyExecutedCommandWithImplicitDF": {
     "commandId": 8098307925942161,
     "dataframes": [
      "_sqldf"
     ]
    },
    "pythonIndentUnit": 4
   },
   "notebookName": "Sandbox",
   "widgets": {}
  },
  "language_info": {
   "name": "python"
  }
 },
 "nbformat": 4,
 "nbformat_minor": 0
}
